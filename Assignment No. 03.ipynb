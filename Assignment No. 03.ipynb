{
 "cells": [
  {
   "cell_type": "code",
   "execution_count": 5,
   "id": "51ab32dc",
   "metadata": {},
   "outputs": [
    {
     "name": "stdout",
     "output_type": "stream",
     "text": [
      "Twinkle, twinkle, little star,\n",
      " \t How I wonder what you are!\n",
      " \t \t Up above the world so high,\n",
      " \t \t Like a diamond in the sky.\n",
      " Twinkle, twinkle, little star,\n",
      " \t How I wonder what you are\n"
     ]
    }
   ],
   "source": [
    "#question No. 01\n",
    "A1 = \"Twinkle, twinkle, little star,\"\n",
    "A2 = \"\\n \\t How I wonder what you are!\"\n",
    "A3 = \"\\n \\t \\t Up above the world so high,\"\n",
    "A4 = \"\\n \\t \\t Like a diamond in the sky.\"\n",
    "A5 = \"\\n Twinkle, twinkle, little star,\"\n",
    "A6 = \"\\n \\t How I wonder what you are\"\n",
    "rhyme = A1+A2+A3+A4+A5+A6;\n",
    "print(rhyme)"
   ]
  },
  {
   "cell_type": "code",
   "execution_count": 6,
   "id": "bf14c134",
   "metadata": {},
   "outputs": [
    {
     "name": "stdout",
     "output_type": "stream",
     "text": [
      "your current version: \n",
      " \t 3.8.8\n"
     ]
    }
   ],
   "source": [
    "#question No. 02\n",
    "import platform\n",
    "platform.python_version()\n",
    "version = platform.python_version()\n",
    "print(\"your current version: \\n \\t\",platform.python_version())"
   ]
  },
  {
   "cell_type": "code",
   "execution_count": 5,
   "id": "8f5b2b4b",
   "metadata": {},
   "outputs": [
    {
     "name": "stdout",
     "output_type": "stream",
     "text": [
      "Today`s date and time: \n",
      " \t 2021-10-24 15:53:44.478708\n"
     ]
    }
   ],
   "source": [
    "#Question No. 03\n",
    "from datetime import datetime\n",
    "today = datetime.today()\n",
    "print(\"Today`s date and time: \\n \\t\", today)"
   ]
  },
  {
   "cell_type": "code",
   "execution_count": 7,
   "id": "5cb276f0",
   "metadata": {},
   "outputs": [
    {
     "name": "stdout",
     "output_type": "stream",
     "text": [
      "please enter the radiue of the circle = 98\n",
      "Area of a circle =  \t 30175.768\n"
     ]
    }
   ],
   "source": [
    "#Question No. 04\n",
    "r = int(input(\"please enter the radiue of the circle = \"))\n",
    "PI = 3.142\n",
    "area_of_the_cicle = PI * r * r\n",
    "print(\"Area of a circle =  \\t\",area_of_the_cicle);"
   ]
  },
  {
   "cell_type": "code",
   "execution_count": 11,
   "id": "a06e6ca0",
   "metadata": {},
   "outputs": [
    {
     "name": "stdout",
     "output_type": "stream",
     "text": [
      "Please type your First Name = 454\n",
      " Please type your First Name = 554\n",
      "554 454\n"
     ]
    }
   ],
   "source": [
    "#Question No. 05\n",
    "Frist_name = input(\"Please type your First Name = \")\n",
    "last_name = input (\" Please type your First Name = \")\n",
    "print(last_name + \" \" + Frist_name)"
   ]
  },
  {
   "cell_type": "code",
   "execution_count": 4,
   "id": "a62ce4be",
   "metadata": {},
   "outputs": [
    {
     "name": "stdout",
     "output_type": "stream",
     "text": [
      "please insert your country =pakistan\n",
      "please insert your city =karachi\n",
      "your Location is : karachi,pakistan\n"
     ]
    }
   ],
   "source": [
    "#Question No. 06\n",
    "x = input (\"please insert your country =\")\n",
    "y = input (\"please insert your city =\")\n",
    "print(\"your Location is\" + \" : \" + y + \",\" + x)"
   ]
  },
  {
   "cell_type": "code",
   "execution_count": 4,
   "id": "20b73376",
   "metadata": {},
   "outputs": [
    {
     "name": "stdout",
     "output_type": "stream",
     "text": [
      "insert obtained marks of Islamiyat = 98\n",
      "insert obtained marks of Maths = 66\n",
      "insert obtained marks of English = 85\n",
      "insert obtained marks of Urdu = 65\n",
      "insert obtained marks of Physics = 48\n",
      "Grade A\n",
      "72.39999999999999\n"
     ]
    }
   ],
   "source": [
    "#Question No. 07\n",
    "\n",
    "Islamiyat = int(input(\"insert obtained marks of Islamiyat = \"));\n",
    "\n",
    "Maths =  int(input(\"insert obtained marks of Maths = \"));\n",
    "\n",
    "English = int(input(\"insert obtained marks of English = \"));\n",
    "\n",
    "Urdu = int(input(\"insert obtained marks of Urdu = \"));\n",
    "\n",
    "Physics = int(input(\"insert obtained marks of Physics = \"));\n",
    "\n",
    "Total = 500;\n",
    "\n",
    "Obtained = Islamiyat + Maths + English + Urdu + Physics;\n",
    "\n",
    "Total_Percentage = (Obtained/Total *100);\n",
    "\n",
    "if Total_Percentage <=100 and Total_Percentage >=80:\n",
    "    print(\"Grade A+\");\n",
    "    print(Total_Percentage);\n",
    "\n",
    "elif Total_Percentage <80 and Total_Percentage >=70:\n",
    "    print(\"Grade A\");\n",
    "    print(Total_Percentage);\n",
    "\n",
    "elif Total_Percentage <70 and Total_Percentage >=60:\n",
    "    print(\"Grade B\");\n",
    "    print(Total_Percentage);\n",
    "\n",
    "elif Total_Percentage <60 and Total_Percentage >=50:\n",
    "    print(\"Grade C\");\n",
    "    print(Total_Percentage);\n",
    "elif Total_Percentage <50 and Total_Percentage >=40:\n",
    "    print(\"Grade D\");   \n",
    "    print(Total_Percentage);\n",
    "\n",
    "elif Total_Percentage <40 and Total_Percentage >=33:\n",
    "    print(\"Grade E\");\n",
    "    print(Total_Percentage);\n",
    "\n",
    "elif Total_Percentage <33 and Total_Percentage >=0:\n",
    "    print(\"Fail\");\n",
    "    print(Total_Percentage);\n",
    "else:\n",
    "    print(\"Please insert correct values\");"
   ]
  },
  {
   "cell_type": "code",
   "execution_count": 12,
   "id": "79c0b697",
   "metadata": {},
   "outputs": [
    {
     "name": "stdout",
     "output_type": "stream",
     "text": [
      "enter your number1\n",
      "this is odd number\n"
     ]
    }
   ],
   "source": [
    "#Question No. 08\n",
    "number = int(input(\"enter your number\"))\n",
    "identify =number % 2\n",
    "if identify > 0:\n",
    "    print(\"this is odd number\")\n",
    "elif identify == 0:\n",
    "    print(\"this is even number\")\n",
    "else:\n",
    "    print(\"this is not number\")"
   ]
  },
  {
   "cell_type": "code",
   "execution_count": 9,
   "id": "c18a6336",
   "metadata": {},
   "outputs": [
    {
     "name": "stdout",
     "output_type": "stream",
     "text": [
      "7\n"
     ]
    }
   ],
   "source": [
    "#Question No. 09\n",
    "L1 = [1,2,3,4,5,6,7]\n",
    "Item_in_list = len(L1)\n",
    "print(Item_in_list)"
   ]
  },
  {
   "cell_type": "code",
   "execution_count": 10,
   "id": "24a3e640",
   "metadata": {},
   "outputs": [
    {
     "name": "stdout",
     "output_type": "stream",
     "text": [
      "55\n"
     ]
    }
   ],
   "source": [
    "#Question No. 10\n",
    "A = [1,2,3,4,5,6,7,8,9,10]\n",
    "b =  sum(A)\n",
    "print(b)"
   ]
  },
  {
   "cell_type": "code",
   "execution_count": null,
   "id": "d74a8994",
   "metadata": {},
   "outputs": [],
   "source": []
  }
 ],
 "metadata": {
  "kernelspec": {
   "display_name": "Python 3",
   "language": "python",
   "name": "python3"
  },
  "language_info": {
   "codemirror_mode": {
    "name": "ipython",
    "version": 3
   },
   "file_extension": ".py",
   "mimetype": "text/x-python",
   "name": "python",
   "nbconvert_exporter": "python",
   "pygments_lexer": "ipython3",
   "version": "3.8.8"
  }
 },
 "nbformat": 4,
 "nbformat_minor": 5
}
